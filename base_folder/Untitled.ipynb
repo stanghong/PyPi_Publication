{
 "cells": [
  {
   "cell_type": "code",
   "execution_count": 9,
   "id": "3555e42b-2b53-4ce2-a42e-be9b84911c74",
   "metadata": {},
   "outputs": [
    {
     "name": "stdout",
     "output_type": "stream",
     "text": [
      "Requirement already satisfied: quicklookts in /Users/hongtang/opt/anaconda3/lib/python3.9/site-packages (0.0.5)\n",
      "Requirement already satisfied: matplotlib in /Users/hongtang/opt/anaconda3/lib/python3.9/site-packages (from quicklookts) (3.5.1)\n",
      "Requirement already satisfied: pandas in /Users/hongtang/opt/anaconda3/lib/python3.9/site-packages (from quicklookts) (1.3.4)\n",
      "Requirement already satisfied: numpy in /Users/hongtang/opt/anaconda3/lib/python3.9/site-packages (from quicklookts) (1.22.3)\n",
      "Requirement already satisfied: packaging>=20.0 in /Users/hongtang/opt/anaconda3/lib/python3.9/site-packages (from matplotlib->quicklookts) (21.0)\n",
      "Requirement already satisfied: fonttools>=4.22.0 in /Users/hongtang/opt/anaconda3/lib/python3.9/site-packages (from matplotlib->quicklookts) (4.25.0)\n",
      "Requirement already satisfied: pyparsing>=2.2.1 in /Users/hongtang/opt/anaconda3/lib/python3.9/site-packages (from matplotlib->quicklookts) (3.0.4)\n",
      "Requirement already satisfied: kiwisolver>=1.0.1 in /Users/hongtang/opt/anaconda3/lib/python3.9/site-packages (from matplotlib->quicklookts) (1.3.1)\n",
      "Requirement already satisfied: python-dateutil>=2.7 in /Users/hongtang/opt/anaconda3/lib/python3.9/site-packages (from matplotlib->quicklookts) (2.8.2)\n",
      "Requirement already satisfied: pillow>=6.2.0 in /Users/hongtang/opt/anaconda3/lib/python3.9/site-packages (from matplotlib->quicklookts) (8.4.0)\n",
      "Requirement already satisfied: cycler>=0.10 in /Users/hongtang/opt/anaconda3/lib/python3.9/site-packages (from matplotlib->quicklookts) (0.10.0)\n",
      "Requirement already satisfied: pytz>=2017.3 in /Users/hongtang/opt/anaconda3/lib/python3.9/site-packages (from pandas->quicklookts) (2021.3)\n",
      "Requirement already satisfied: six in /Users/hongtang/opt/anaconda3/lib/python3.9/site-packages (from cycler>=0.10->matplotlib->quicklookts) (1.16.0)\n"
     ]
    }
   ],
   "source": [
    "# !pip install quicklookts\n",
    "# quicklook()\n",
    "!pip install quicklookts --upgrade"
   ]
  },
  {
   "cell_type": "code",
   "execution_count": 2,
   "id": "de1e027d-5236-4c82-9d79-0fd80b141930",
   "metadata": {},
   "outputs": [
    {
     "ename": "ModuleNotFoundError",
     "evalue": "No module named 'quicklookts'",
     "output_type": "error",
     "traceback": [
      "\u001b[0;31m---------------------------------------------------------------------------\u001b[0m",
      "\u001b[0;31mModuleNotFoundError\u001b[0m                       Traceback (most recent call last)",
      "\u001b[0;32m/var/folders/wz/xlw_9yk51f98d25vmpj8rc000000gn/T/ipykernel_80292/2724592838.py\u001b[0m in \u001b[0;36m<module>\u001b[0;34m\u001b[0m\n\u001b[0;32m----> 1\u001b[0;31m \u001b[0;32mfrom\u001b[0m \u001b[0mquicklookts\u001b[0m \u001b[0;32mimport\u001b[0m \u001b[0;34m*\u001b[0m\u001b[0;34m\u001b[0m\u001b[0;34m\u001b[0m\u001b[0m\n\u001b[0m",
      "\u001b[0;31mModuleNotFoundError\u001b[0m: No module named 'quicklookts'"
     ]
    }
   ],
   "source": [
    "from quicklookts import *"
   ]
  },
  {
   "cell_type": "code",
   "execution_count": null,
   "id": "9ac24cfb-00f6-4902-8458-de0e4fd27dc9",
   "metadata": {},
   "outputs": [],
   "source": []
  }
 ],
 "metadata": {
  "kernelspec": {
   "display_name": "Python 3 (ipykernel)",
   "language": "python",
   "name": "python3"
  },
  "language_info": {
   "codemirror_mode": {
    "name": "ipython",
    "version": 3
   },
   "file_extension": ".py",
   "mimetype": "text/x-python",
   "name": "python",
   "nbconvert_exporter": "python",
   "pygments_lexer": "ipython3",
   "version": "3.9.7"
  }
 },
 "nbformat": 4,
 "nbformat_minor": 5
}
